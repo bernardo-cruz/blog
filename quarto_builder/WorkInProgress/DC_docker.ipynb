{
 "cells": [
  {
   "cell_type": "raw",
   "metadata": {},
   "source": [
    "---\n",
    "title: Datacamp Docker Course\n",
    "author: Bernardo Freire\n",
    "date: '2023-09-17'\n",
    "\n",
    "code-fold: false\n",
    "code-line-numbers: true\n",
    "highlight-style: github\n",
    "\n",
    "callout-appearance: simple\n",
    "\n",
    "theme:\n",
    "    light: flatly\n",
    "    dark: darkly\n",
    "\n",
    "toc: true\n",
    "\n",
    "categories:\n",
    "  - Docker\n",
    "  - Containerization\n",
    "  - Deployment\n",
    "--- "
   ]
  },
  {
   "cell_type": "code",
   "execution_count": 17,
   "metadata": {},
   "outputs": [],
   "source": [
    "#| label: imports-libraries\n",
    "#| echo: false\n",
    "#| output: false\n",
    "#| include: true\n",
    "\n",
    "## Data manipulation imports\n",
    "import pandas as pd\n",
    "import numpy as np\n",
    "\n",
    "## Display imports\n",
    "from IPython.display import display, Markdown\n",
    "\n",
    "## Image extractor\n",
    "from pypdf import PdfReader\n",
    "\n",
    "## Plot imports\n",
    "import matplotlib.pyplot as plt\n",
    "plt.rcParams['figure.figsize'] = (5,5/2.5)\n",
    "import seaborn as sns\n",
    "sns.set_style('whitegrid')\n",
    "sns.set_theme()\n",
    "sns.set_context(\n",
    "    \"paper\", \n",
    "    rc={\n",
    "        \"figsize\"       :   plt.rcParams['figure.figsize'],\n",
    "        'font_scale'    :   1.25,\n",
    "    }\n",
    ")\n",
    "\n",
    "def extract_images_from_pdf(\n",
    "        output_path : str = \"../imgs/\",\n",
    "        pdf_path : str = \"../data/pdf/DC_airflow_chapter1.pdf\",\n",
    "        page_number : int = -5,\n",
    "    ) -> None:\n",
    "    ## Create an instance of PdfReader with the PDF path\n",
    "    reader = PdfReader(pdf_path)\n",
    "    ## Define the page to extract images from\n",
    "    page = reader.pages[page_number]\n",
    "    ## Create a counter to name the images\n",
    "    count = 0\n",
    "    try:\n",
    "        ## Loop through the images in the page\n",
    "        for image_file_object in page.images:\n",
    "            with open(output_path + '/' + str(count) + image_file_object.name, \"wb\") as fp:\n",
    "                print(image_file_object.name)\n",
    "                fp.write(image_file_object.data)\n",
    "                count += 1\n",
    "        return None\n",
    "    except:\n",
    "        print(\"No images found in page\")\n",
    "        return None"
   ]
  },
  {
   "cell_type": "code",
   "execution_count": 24,
   "metadata": {},
   "outputs": [],
   "source": [
    "#| echo: false\n",
    "#| output: false\n",
    "#| include: true\n",
    "\n",
    "# for page in range(0, 29, 1):\n",
    "#     extract_images_from_pdf(\n",
    "#         pdf_path = \"../data/pdf/Docker/chapter1.pdf\",\n",
    "#         output_path = \"../imgs/dc_docker/chapter1\", \n",
    "#         page_number = page,\n",
    "#     )"
   ]
  },
  {
   "cell_type": "markdown",
   "metadata": {},
   "source": [
    "# Section 1: Containers and their advantages\n",
    "## Prerequisites\n",
    "\n",
    "Before taking Introduction to Docker, we advise completing the prerequisite course. A basic understanding of how to work with Shell is needed in this course. We'll use nano extensively to edit files, together with several commands to find our way around the file system."
   ]
  },
  {
   "cell_type": "markdown",
   "metadata": {},
   "source": [
    "## Containers\n",
    "\n",
    "In this first chapter, we’ll give an introduction to containers, Docker, and give insight into the differences between containers and virtual machines. A container is a portable computing environment. It contains everything needed to run a workflow or application, including dependencies, code, and configuration."
   ]
  },
  {
   "cell_type": "markdown",
   "metadata": {},
   "source": [
    "![](../imgs/dc_docker/chapter1/0X22.png)"
   ]
  },
  {
   "cell_type": "markdown",
   "metadata": {},
   "source": [
    "## Making it less abstract\n",
    "\n",
    "We can think of a container like a new computer on which we copy our code or workflow and install all needed dependencies. Once everything is installed and configured, we make backups of that computer. Imagine we could now use that backup on another computer, and everything we installed and configured would work just like it did originally. This backup is similar to a container; both are a packaging of code together with its dependencies (including the operating system) and configuration. That's where the analogy ends since a container has many advantages over something like a backup."
   ]
  },
  {
   "cell_type": "markdown",
   "metadata": {},
   "source": [
    "![Backup example](../imgs/dc_docker/chapter1/0X28.png)\n",
    "![Container equivalent](../imgs/dc_docker/chapter1/1X29.png)"
   ]
  },
  {
   "cell_type": "markdown",
   "metadata": {},
   "source": [
    "## Containers run identically every time\n",
    "\n",
    "One of the main benefits of containers is that whenever a container is run, the workflow or application it contains will behave identically. That is to say; containers provide reproducibility. Reproducible means we have a container X that gives an output Y; every time it is run, now, in five minutes or two months, for the same input, it will give identical output."
   ]
  },
  {
   "cell_type": "markdown",
   "metadata": {},
   "source": [
    "![](../imgs/dc_docker/chapter1/0X35.png)"
   ]
  },
  {
   "cell_type": "markdown",
   "metadata": {},
   "source": [
    "## Containers run identically everywhere\n",
    "\n",
    "The second main benefit of containers is that wherever a container is run, it will behave identically, containers provide portability. Portable means the container will run the same on our computer, your colleague's computer, and the cloud. No risk of removed dependencies, lost configuration files, or other changes that break our application."
   ]
  },
  {
   "cell_type": "markdown",
   "metadata": {},
   "source": [
    "![](../imgs/dc_docker/chapter1/0X41.png)"
   ]
  },
  {
   "cell_type": "markdown",
   "metadata": {},
   "source": [
    "## Isolation\n",
    "\n",
    "This is possible because of isolation between the container and the rest of the environment; running a container will have no impact outside of the container and vice versa. Anything happening outside the container will not affect the result of a container. A container has limited resource access to the operating system it is running on; everything else is kept separate."
   ]
  },
  {
   "cell_type": "markdown",
   "metadata": {},
   "source": [
    "![](../imgs/dc_docker/chapter1/0X47.png)"
   ]
  },
  {
   "cell_type": "markdown",
   "metadata": {},
   "source": [
    "## Containers provide security\n",
    "\n",
    "Because containers are completely isolated from each other, even if the security of one container is compromised, the other containers on the same host, and the host itself remain secure since there is no direct communication between containers. The compromised container still only has access to limited resources on the host and nothing more. This makes containers not only great for safely deploying applications but also for quickly prototyping workflows. You can be sure that whatever you do in the container won't affect anything outside of it and that you can start with a clean slate at any point."
   ]
  },
  {
   "cell_type": "markdown",
   "metadata": {},
   "source": [
    "![](../imgs/dc_docker/chapter1/0X53.png)"
   ]
  },
  {
   "cell_type": "markdown",
   "metadata": {},
   "source": [
    "## Containers are lightweight\n",
    "\n",
    "Containers not only provide security, portability, and reproducibility. An additional advantage of containers is that they are lightweight, or in other words, use few extra resources in comparison to running an application outside of a container. Containers have little overhead compared to alternatives that also provide isolation. This is especially relevant when comparing containers to virtual machines, which we will do in detail later on."
   ]
  },
  {
   "cell_type": "markdown",
   "metadata": {},
   "source": [
    "## Containers and data science\n",
    "\n",
    "All these advantages make containers relevant for data science; containers make any task or workflow automatically reproducible not only on our own machine but also everywhere else. Containers help us avoid many issues when sharing our work; dependencies are automatically included, and so are datasets. Most importantly, we can be sure our code will work on our colleague's machine. Additionally, the lightweight nature of containers makes them easier to share than alternatives."
   ]
  },
  {
   "cell_type": "markdown",
   "metadata": {},
   "source": [
    "## Exercises"
   ]
  },
  {
   "cell_type": "markdown",
   "metadata": {},
   "source": [
    "### Exercise 1: What is included in a container?\n",
    "A container is a portable computing environment, but what is included exactly?\n",
    "\n",
    "- [ ] A container contains dependencies and code needed to run a workflow or application, but you have to configure your application from outside the container.\n",
    "\n",
    "- [ ] A container contains the configuration and code needed to run a workflow or application, but you have to install dependencies separately.\n",
    "\n",
    "- [ ] A container contains dependencies and configuration needed to run a workflow or application, but you can not put your code into a container.\n",
    "\n",
    "- [ ] A container contains everything needed to run a workflow or application; dependencies, code, and configuration.\n",
    "\n",
    "::: {.callout-tip collapse=\"true\"}\n",
    "## Solution\n",
    "A container contains everything needed to run a workflow or application; dependencies, code, and configuration.\n",
    ":::"
   ]
  },
  {
   "cell_type": "markdown",
   "metadata": {},
   "source": [
    "### Exercise 2: Advantages of containers\n",
    "We saw a lot of advantages of containers. Can you remember what they were exactly?\n",
    "\n",
    "![](../imgs/dc_docker/chapter1/Exercise_3.png)"
   ]
  },
  {
   "cell_type": "markdown",
   "metadata": {},
   "source": [
    "# Section 2: The Docker Engine\n",
    "\n",
    "Docker is an open-source tool that allows us to create, run and manage containers. Docker first launched in 2013, and even though containers had existed for more than a decade, it was with the launch of Docker that containers exploded in popularity.\n",
    "\n",
    "## Docker ecosystem\n",
    "\n",
    "Over time, Docker has grown to be part of a large ecosystem of tools around containers; we will focus on Docker Engine, which is everything you need to create, run and manage containers. Other parts of this ecosystem are, for example, Docker Compose, a tool for defining and running multi-container Docker applications, and Kubernetes, a system for container scheduling and management.\n",
    "\n",
    "## Docker Engine\n",
    "\n",
    "Docker Engine^[https://docs.docker.com/engine/] has two main parts: server and client. The client, called Docker client, is a command line interface used to talk to the server. The server is a background process that requires no user interaction, which is called a daemon, a term we will encounter repeatedly to reference the Docker server. In addition to the Docker client and daemon, Docker Engine also includes so-called API specifications, which define how you can interact with the Docker Daemon. These APIs are not only used by the Docker client to talk to the daemon but also specify how other applications can work with the daemon.\n",
    "\n",
    "## The Docker daemon\n",
    "\n",
    "The Docker daemon^[https://docs.docker.com/get-started/overview/#docker-architecture] is responsible for managing all Docker objects, such as images, containers, and more. However, we can't directly tell the daemon what to do; we need a client to give us a human-usable interface to it. Here the Docker command line interface is the default option, but there are others, like Docker Desktop, which gives us a Graphical User Interface to manage our containers.\n",
    "\n",
    "## Images and Containers\n",
    "\n",
    "The daemon manages both images and containers, but there is a difference between them. While an image is a blueprint or recipe, like an idle copy of a hard drive with all the software we want to run, a container is a running image, like a copy of that same hard drive plugged into a running computer. We could create an image with Ubuntu and python3 point 9 installed. Once we start this image, we'll have a running container with Ubuntu and python3 point 9 where we can execute our code.\n",
    "\n",
    "## Containers are processes\n",
    "\n",
    "Up until now, we talked about containers abstractly. To better understand containers, we can think of them as processes. When we start a container, a process is started, just as when we start a text editor, Spotify, or any other application. What makes a container process different is its permissions to resources like the file system, memory, and network.\n",
    "\n",
    "## Containers are processes\n",
    "\n",
    "For many resources of a container process, not only is access restricted, but they are also undetectable to the process. For example, instead of seeing all the files on your hard drive, the process is given access to only a single folder and cannot see files outside of that folder.\n",
    "\n",
    "## Containers are isolated processes\n",
    "\n",
    "Not only blocking access to but also hiding resources may seem like a small difference, but it allows running a process that is isolated from the rest of the machine. This lets an entirely separate operating system run inside the process. A container runs its own operating system instead of using the host operating system. The Docker daemon ensures that the OS running in the container is unaware of other containers and the host OS. The operating system inside the container can start and manage it's own processes without interfering with any processes running on the host OS. In other words the operating system in the container is separated and kept unaware of anything happening outside itself, isolated from anything on the host and other containers."
   ]
  },
  {
   "cell_type": "markdown",
   "metadata": {},
   "source": []
  }
 ],
 "metadata": {
  "kernelspec": {
   "display_name": "blog",
   "language": "python",
   "name": "python3"
  },
  "language_info": {
   "codemirror_mode": {
    "name": "ipython",
    "version": 3
   },
   "file_extension": ".py",
   "mimetype": "text/x-python",
   "name": "python",
   "nbconvert_exporter": "python",
   "pygments_lexer": "ipython3",
   "version": "3.11.5"
  },
  "orig_nbformat": 4
 },
 "nbformat": 4,
 "nbformat_minor": 2
}
