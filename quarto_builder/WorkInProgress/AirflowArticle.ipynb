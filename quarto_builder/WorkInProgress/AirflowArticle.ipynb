{
 "cells": [
  {
   "cell_type": "raw",
   "metadata": {},
   "source": [
    "---\n",
    "title: Airflow \n",
    "author: Bernardo Freire\n",
    "date: '2023-09-04'\n",
    "\n",
    "code-fold: false\n",
    "code-line-numbers: true\n",
    "highlight-style: github\n",
    "\n",
    "theme:\n",
    "    light: flatly\n",
    "    dark: darkly\n",
    "\n",
    "toc: true\n",
    "\n",
    "categories:\n",
    "  - Apache Airflow\n",
    "  - Python\n",
    "  - Workflow\n",
    "  - ETL\n",
    "  - Data Engineering\n",
    "--- "
   ]
  },
  {
   "cell_type": "code",
   "execution_count": 1,
   "metadata": {},
   "outputs": [],
   "source": [
    "#| label: imports-libraries\n",
    "#| echo: false\n",
    "#| output: false\n",
    "#| include: true\n",
    "\n",
    "## Data manipulation imports\n",
    "import pandas as pd\n",
    "import numpy as np\n",
    "\n",
    "## Display imports\n",
    "from IPython.display import display, Markdown\n",
    "\n",
    "## statmodels import\n",
    "import statsmodels.api as sm\n",
    "import statsmodels.formula.api as smf\n",
    "import statsmodels.genmod.families.family as fam\n",
    "from patsy import dmatrices\n",
    "\n",
    "## Plot imports\n",
    "import matplotlib.pyplot as plt\n",
    "plt.rcParams['figure.figsize'] = (5,5/2.5)\n",
    "import seaborn as sns\n",
    "sns.set_style('whitegrid')\n",
    "sns.set_theme()\n",
    "sns.set_context(\n",
    "    \"paper\", \n",
    "    rc={\n",
    "        \"figsize\"       :   plt.rcParams['figure.figsize'],\n",
    "        'font_scale'    :   1.25,\n",
    "    }\n",
    ")"
   ]
  },
  {
   "cell_type": "markdown",
   "metadata": {},
   "source": [
    "# Introduction\n",
    "In my present work we fetch continously data from the field. This data is used to create models that allow us to predict the behavior of the field, validate the models and take actions. This data is stored in a database and we have a web application that allows us to visualize the data. "
   ]
  },
  {
   "cell_type": "code",
   "execution_count": null,
   "metadata": {},
   "outputs": [],
   "source": []
  }
 ],
 "metadata": {
  "kernelspec": {
   "display_name": "blog",
   "language": "python",
   "name": "python3"
  },
  "language_info": {
   "codemirror_mode": {
    "name": "ipython",
    "version": 3
   },
   "file_extension": ".py",
   "mimetype": "text/x-python",
   "name": "python",
   "nbconvert_exporter": "python",
   "pygments_lexer": "ipython3",
   "version": "3.11.5"
  },
  "orig_nbformat": 4
 },
 "nbformat": 4,
 "nbformat_minor": 2
}
