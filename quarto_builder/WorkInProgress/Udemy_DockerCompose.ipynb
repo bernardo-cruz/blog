{
 "cells": [
  {
   "cell_type": "raw",
   "metadata": {},
   "source": [
    "---\n",
    "title: Docker Compose Course\n",
    "author: Bernardo Freire\n",
    "date: '2023-10-26'\n",
    "\n",
    "callout-appearance: simple\n",
    "\n",
    "categories:\n",
    "  - Docker\n",
    "  - Docker Compose\n",
    "  - Containerization\n",
    "  - DevOps\n",
    "  - Udemy\n",
    "--- "
   ]
  },
  {
   "cell_type": "code",
   "execution_count": 2,
   "metadata": {},
   "outputs": [],
   "source": [
    "#| label: imports-libraries\n",
    "#| echo: false\n",
    "#| output: false\n",
    "#| include: true\n",
    "\n",
    "## Data manipulation imports\n",
    "import pandas as pd\n",
    "import numpy as np\n",
    "\n",
    "## Display imports\n",
    "from IPython.display import display, Markdown\n",
    "\n",
    "## Image extractor\n",
    "from pypdf import PdfReader\n",
    "\n",
    "## Plot imports\n",
    "import matplotlib.pyplot as plt\n",
    "plt.rcParams['figure.figsize'] = (5,5/2.5)\n",
    "import seaborn as sns\n",
    "sns.set_style('whitegrid')\n",
    "sns.set_theme()\n",
    "sns.set_context(\n",
    "    \"paper\", \n",
    "    rc={\n",
    "        \"figsize\"       :   plt.rcParams['figure.figsize'],\n",
    "        'font_scale'    :   1.25,\n",
    "    }\n",
    ")\n",
    "\n",
    "def extract_images_from_pdf(\n",
    "        output_path : str = \"../imgs/\",\n",
    "        pdf_path : str = \"../data/pdf/DC_airflow_chapter1.pdf\",\n",
    "        page_number : int = -5,\n",
    "    ) -> None:\n",
    "    ## Create an instance of PdfReader with the PDF path\n",
    "    reader = PdfReader(pdf_path)\n",
    "    ## Define the page to extract images from\n",
    "    page = reader.pages[page_number]\n",
    "    ## Create a counter to name the images\n",
    "    count = 0\n",
    "    try:\n",
    "        ## Loop through the images in the page\n",
    "        for image_file_object in page.images:\n",
    "            with open(output_path + '/' + str(count) + image_file_object.name, \"wb\") as fp:\n",
    "                print(image_file_object.name)\n",
    "                fp.write(image_file_object.data)\n",
    "                count += 1\n",
    "        return None\n",
    "    except:\n",
    "        print(\"No images found in page\")\n",
    "        return None"
   ]
  },
  {
   "cell_type": "markdown",
   "metadata": {},
   "source": [
    "# Introduction\n",
    "This course notes corresponds to course [Docker Compose in Depth](https://github.com/avescodes/docker-compose-in-depth) on Udemy.\n",
    "\n",
    "Docker has taken the development world by storm in recent years, being the first effective tool that wraps up a piece of software in a complete file system package, installs it on a server, and runs it repeatedly. However, until recently it was difficult to do this with micro-architectures composed of numerous containers that all need to work in conjunction with one another. Enter Docker Compose, the handiest tool to hit the tech world since Docker. Here’s everything you need to know...\n",
    "\n",
    "- Define multi-container application environments\n",
    "- Create flexible, customisable environments and networks\n",
    "- Transform an existing application into a fully Docker-ised environment\n",
    "- Enhance your Docker experience\n",
    "\n",
    "## Make Your Docker Experience Even More Stress-Free\n",
    "\n",
    "First you’ll cover the basic features using a sample environment, gaining an understanding of restarts, dependencies, and persisting the database with a volume.\n",
    "\n",
    "After that you’ll progress to networks. You’ll take an in-depth look at isolating containers, aliases and container names, links, using external networks, and how updates affect networking. Then it’s on to the really good stuff; a section each is dedicated to volumes, logging, the Compose CLI, and ‘Composing Compose’ (don’t worry, it won’t be as complicated as it sounds by the time you get there). Finally you’ll learn about Compose in Production.\n",
    "\n",
    "## About Docker Compose\n",
    "\n",
    "Docker Compose is a useful tool from the people at Docker. It makes defining and running application environments made up of multiple Docker containers even easier and more efficient. Up until now, starting any more than one or two Docker containers was extremely complicated. With Docker Compose, the entire process just got infinitely better. "
   ]
  },
  {
   "cell_type": "markdown",
   "metadata": {},
   "source": [
    "# Docker Compose in Depth\n",
    "Let us start right away and have a look at a Docker Compose file^[<https://gdevillele.github.io/compose/wordpress/>]. A Docker Compose file is essentially a `yaml` file, which defines the services that make up your app. Let us have a look at a simple example:"
   ]
  },
  {
   "cell_type": "markdown",
   "metadata": {},
   "source": [
    "```yaml\n",
    "version: '2'                    #<1>\n",
    "services:                       #<2>  \n",
    "  hello-world:                  #<3>\n",
    "    image: hello-world          #<4>\n",
    "    ports:                      #<5>\n",
    "      - 8080:80                 #<6>\n",
    "```\n",
    "\n",
    "1. `version` sets the version and is required and all compose files\n",
    "1. `services` maps container names and their configurations.\n",
    "1. Defines a single container called `hello-world` \n",
    "1. Sets the `image` of the container to `tutum/hello-world`\n",
    "1. `port` 80 is exposed\n",
    "\n",
    "You'll notice this is very similar to the verbiage used in the Docker run command and in many cases commands in compose mirror those from docker run. To run this environment all you need to do is exit the file and get to a terminal in the same directory as Docker composed YAML. From there you can issue the command `docker-compose up -d` to make it run in detached mode to launch. Once running the previous command you will see something similar to this output, indicating the the images have been pulled, started and are running. "
   ]
  },
  {
   "cell_type": "markdown",
   "metadata": {},
   "source": [
    "```bash\n",
    "[+] Running 2/2\n",
    " ✔ hello-world 1 layers [⣿]      0B/0B      Pulled                                                               3.1s \n",
    "   ✔ 70f5ac315c5a Pull complete                                                                                  0.6s \n",
    "[+] Running 1/1\n",
    " ✔ Container 0102-hello-world-1  Started                                                                         0.1s\n",
    "```"
   ]
  },
  {
   "cell_type": "markdown",
   "metadata": {},
   "source": [
    "Now if this is the first time you've run this you will see it pulling that image and then you should see creating network and creating the hello container to do that.\n",
    "However we need to find out which port is being redirected from port 80. In order to do that, we use the command `docker ps` to list all the running containers.\n",
    "\n",
    "```bash\n",
    "docker ps \n",
    "```\n",
    "\n",
    "and here we see it's port 8080\n",
    "```bash\n",
    "CONTAINER ID   IMAGE               COMMAND                  CREATED         STATUS         PORTS                  NAMES\n",
    "20224eea69b5   tutum/hello-world   \"/bin/sh -c 'php-fpm…\"   3 minutes ago   Up 3 minutes   0.0.0.0:8080->80/tcp   0102-hello-world-1\n",
    "```"
   ]
  },
  {
   "cell_type": "markdown",
   "metadata": {},
   "source": [
    "Now we can use `curl` to see the output of the container. \n",
    "```bash\n",
    "curl localhost:8080\n",
    "```\n",
    "Then, we can see the answer from the container. \n",
    "```html\n",
    "<html>\n",
    "<head>\n",
    "        <title>Hello world!</title>\n",
    "        <link href='http://fonts.googleapis.com/css?family=Open+Sans:400,700' rel='stylesheet' type='text/css'>\n",
    "        <style>\n",
    "        body {\n",
    "                background-color: white;\n",
    "                text-align: center;\n",
    "                padding: 50px;\n",
    "                font-family: \"Open Sans\",\"Helvetica Neue\",Helvetica,Arial,sans-serif;\n",
    "        }\n",
    "\n",
    "        #logo {\n",
    "                margin-bottom: 40px;\n",
    "        }\n",
    "        </style>\n",
    "</head>\n",
    "<body>\n",
    "        <img id=\"logo\" src=\"logo.png\" />\n",
    "        <h1>Hello world!</h1>\n",
    "        <h3>My hostname is 20224eea69b5</h3>    </body>\n",
    "</html>\n",
    "```"
   ]
  },
  {
   "cell_type": "markdown",
   "metadata": {},
   "source": [
    "# Docker Compose \n",
    "## Basics\n",
    "Next, we are going to dive deeper into the basics of Docker Compose. We will start analyzing the [docker compose wordpress example](https://gdevillele.github.io/compose/wordpress/). This example contains the following information:\n",
    "\n",
    "\n",
    "```yaml\n",
    "version: '2'\n",
    "\n",
    "services:\n",
    "   db:                                  #<1>\n",
    "     image: mysql:5.7                   #<1.1>\n",
    "     volumes:                           #<1.2>\n",
    "       - \"./.data/db:/var/lib/mysql\"\n",
    "     restart: always                    #<1.3>\n",
    "     environment:                       #<1.4>\n",
    "       MYSQL_ROOT_PASSWORD: wordpress\n",
    "       MYSQL_DATABASE: wordpress\n",
    "       MYSQL_USER: wordpress\n",
    "       MYSQL_PASSWORD: wordpress\n",
    "\n",
    "   wordpress:                            #<2>\n",
    "     depends_on:\n",
    "       - db\n",
    "     image: wordpress:4.5                #<2.1>\n",
    "     links:                              #<2.2>\n",
    "       - db\n",
    "     ports:                              #<2.3>\n",
    "       - \"8000:80\"\n",
    "     restart: always\n",
    "     environment:                        #<2.4>\n",
    "       WORDPRESS_DB_HOST: db:3306\n",
    "       WORDPRESS_DB_PASSWORD: wordpress\n",
    "```"
   ]
  },
  {
   "cell_type": "markdown",
   "metadata": {},
   "source": [
    "where:  \n",
    "\n",
    "1. denotes the first service called `db`, \n",
    "    1. denotes the image used for the environment as a `mysql` database  \n",
    "    1. creates a folder to persist the data in `./.data/db`\n",
    "    1. restarts the container if it stops\n",
    "    1. defines the environment variables for the database environment\n",
    "\n",
    "1. denotes the second service called `wordpress`, which defines the `wordpress` environment  \n",
    "    1. denotes the image used for the wordpress environment  \n",
    "    1. denotes the links to the other service called `db`\n",
    "    1. exposes port 80 of the container to port 8000 of the host\n",
    "    1. defines the environment variables for the wordpress environment\n",
    "\n",
    "Taking a look at the setup provided by docker-compose file, the following schema is obtained:"
   ]
  },
  {
   "cell_type": "markdown",
   "metadata": {},
   "source": [
    "```{mermaid}\n",
    "%%| label: docker_compose_example\n",
    "%%| fig-cap: Schematics of the Docker compose example showing \n",
    "%%| fig-width: 8.0\n",
    "\n",
    "flowchart LR\n",
    "    subgraph Docker[Docker Container]\n",
    "        direction TB\n",
    "\n",
    "        subgraph Service1[Service: db]\n",
    "            DB[(\"DB\n",
    "            \n",
    "            Persists data\n",
    "            Restarts if it stops\n",
    "            Defines environment variables\n",
    "            Exposes port 3306\")] \n",
    "            \n",
    "        end\n",
    "        \n",
    "        subgraph Service2[Service: wordpress]\n",
    "            Wordpress[\"Wordpress\n",
    "            \n",
    "            Depends on db\n",
    "            Links to db\n",
    "            Defines environment variables\n",
    "            Exposes port 80\"]\n",
    "        end\n",
    "\n",
    "        Service1 <--> Service2\n",
    "        Service1 -- data is persisted in --> Volume[Volume]\n",
    "    end\n",
    "\n",
    "    subgraph Host\n",
    "        direction LR\n",
    "        Browser[Browser Port 8000]\n",
    "    end\n",
    "\n",
    "    Docker -- Maps port 80 to 8000 --> Host\n",
    "    \n",
    "```"
   ]
  },
  {
   "cell_type": "markdown",
   "metadata": {},
   "source": [
    "Summarizing, we have review our first Docker compose file, which defines two services, a database and a wordpress environment. The database is linked to the wordpress environment and the wordpress environment is exposed to the host on port 8000.\n",
    "Furthermore, the database is persisted in the host in the folder `./.data/db`. Next, we are going to dive deeper into the docker compose file and analyze how to persist data in a volume."
   ]
  },
  {
   "cell_type": "markdown",
   "metadata": {},
   "source": [
    "## Persiting Database with a Volume\n"
   ]
  },
  {
   "cell_type": "markdown",
   "metadata": {},
   "source": []
  },
  {
   "cell_type": "markdown",
   "metadata": {},
   "source": [
    "```yaml\n",
    "version: '2'\n",
    "\n",
    "services:\n",
    "  wordpress:\n",
    "    image: wordpress:4.5\n",
    "    depends_on:\n",
    "      - db\n",
    "    links:\n",
    "      - db\n",
    "    ports:\n",
    "      - \"8080:80\"\n",
    "    environment:\n",
    "      WORDPRESS_DB_HOST: db:3306\n",
    "      WORDPRESS_DB_USER: wordpress\n",
    "      WORDPRESS_DB_PASSWORD: wordpress\n",
    "    restart: always\n",
    "\n",
    "  db:\n",
    "    image: mariadb:10.1\n",
    "    volumes:\n",
    "      - \"./volumes/db:/var/lib/mysql\"       #<1>\n",
    "    restart: always                         #<2>\n",
    "    environment:\n",
    "      MYSQL_ROOT_PASSWORD: example\n",
    "      MYSQL_DATABASE: wordpress\n",
    "      MYSQL_USER: wordpress\n",
    "      MYSQL_PASSWORD: wordpress\n",
    "```"
   ]
  },
  {
   "cell_type": "markdown",
   "metadata": {},
   "source": [
    "1. Creates a folder to persist the data in `./volumes/db` (host path) to `/var/lib/mysql` (container path).\n",
    "1. Restarts the container if it stops - more on this in the next part."
   ]
  },
  {
   "cell_type": "markdown",
   "metadata": {},
   "source": [
    "Let us now discuss restart policies as we've defined one of them for each of our containers (but we don't quite know exactly what that means yet). In the case of two separate containers each with their own restart policies you'll find that restarts occur independently: \n",
    "\n",
    "So for example: if the database container went down in this environment our restart policy would cause it to restart its own but independently of Wordpress would then be up and things might be running again. "
   ]
  },
  {
   "cell_type": "markdown",
   "metadata": {},
   "source": [
    "```{mermaid}\n",
    "%%| label: independent_restarts\n",
    "%%| fig-cap: Independent restarts\n",
    "\n",
    "flowchart LR\n",
    "    subgraph Docker[\"Case 1: without dependencies\"]\n",
    "        direction LR\n",
    "        wordpress[\"wordpress\"]\n",
    "        db[\"db\"]\n",
    "\n",
    "        wordpress <-.-> db\n",
    "        db -. restarts always .- db\n",
    "    end\n",
    "```"
   ]
  },
  {
   "cell_type": "markdown",
   "metadata": {},
   "source": [
    "Many applications that depend on a data layer like this may just stop working if their database disappears and/or is replaced. Therefore, we define a hierarchy between containers. We can do that by using the `depends_on` keyword. So in this case we're going to say that the Wordpress container depends on the database container. "
   ]
  },
  {
   "cell_type": "markdown",
   "metadata": {},
   "source": [
    "```{mermaid}\n",
    "%%| label: independent_restarts\n",
    "%%| fig-cap: Restart using depends_on\n",
    "\n",
    "flowchart LR\n",
    "    subgraph Docker[\"Case 2: with depends_on\"]\n",
    "        direction LR\n",
    "        wordpress[\"wordpress\"]\n",
    "        db[\"db\"]\n",
    "\n",
    "        wordpress -- depends on --> db\n",
    "        db -. restarts always .- db\n",
    "        wordpress -. restart in case db restarts .-> wordpress\n",
    "    end\n",
    "```"
   ]
  },
  {
   "cell_type": "markdown",
   "metadata": {},
   "source": [
    "The `depends_on` does not propagate the in the other direction. In case the wordpress container goes down, the database container will not be restarted. \n"
   ]
  }
 ],
 "metadata": {
  "kernelspec": {
   "display_name": "blog",
   "language": "python",
   "name": "python3"
  },
  "language_info": {
   "codemirror_mode": {
    "name": "ipython",
    "version": 3
   },
   "file_extension": ".py",
   "mimetype": "text/x-python",
   "name": "python",
   "nbconvert_exporter": "python",
   "pygments_lexer": "ipython3",
   "version": "3.11.5"
  },
  "orig_nbformat": 4
 },
 "nbformat": 4,
 "nbformat_minor": 2
}
